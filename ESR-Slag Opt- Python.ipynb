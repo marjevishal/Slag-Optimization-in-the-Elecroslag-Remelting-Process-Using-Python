{
 "cells": [
  {
   "cell_type": "markdown",
   "id": "19a4cdee",
   "metadata": {},
   "source": [
    "**Construction of Python function to Design the SLAG in Electro-Slag Remelting through Thermodynamic Modeling**\n",
    "\n",
    "*[Reference -: \"A Thermodynamic Model to Design the Equilibrium Slag Composition during Electroslag remelting Process : Description and Verification\",  Shi-jian Ll,   ISIJ International, Vol. 57 (2017), No. 4, pp. 713–722*"
   ]
  },
  {
   "cell_type": "code",
   "execution_count": 2,
   "id": "91801509",
   "metadata": {},
   "outputs": [],
   "source": [
    "from scipy.optimize import fsolve"
   ]
  },
  {
   "cell_type": "markdown",
   "id": "596616f0",
   "metadata": {},
   "source": [
    "*Declaring input variables*"
   ]
  },
  {
   "cell_type": "code",
   "execution_count": 7,
   "id": "ff02ae0a",
   "metadata": {},
   "outputs": [
    {
     "name": "stdout",
     "output_type": "stream",
     "text": [
      "Please enter electrode Carbon content: \n",
      "0.21\n",
      "Please enter electrode Aluminium content: \n",
      "0.018\n",
      "Please enter electrode Silicon content: \n",
      "0.31\n",
      "Please enter electrode Manganese content: \n",
      "0.62\n",
      "Please enter electrode Chromium content: \n",
      "0.60\n",
      "Please enter electrode Sulphur content: \n",
      "0.002\n",
      "Please enter electrode Phosphorus content: \n",
      "0.011\n",
      "Please enter electrode Oxygen content: \n",
      "0.0020\n",
      "Please enter wt% CaO : \n",
      "5.10\n",
      "Please enter wt% CaF2 : \n",
      "49.69\n",
      "Please enter wt% MgO : \n",
      "5.13\n",
      "Please enter the slag weight(g) : \n",
      "49500\n"
     ]
    }
   ],
   "source": [
    "C=float(input(\"Please enter electrode Carbon content: \\n\"))\n",
    "Al=float(input(\"Please enter electrode Aluminium content: \\n\"))\n",
    "Si=float(input(\"Please enter electrode Silicon content: \\n\"))\n",
    "Mn=float(input(\"Please enter electrode Manganese content: \\n\"))\n",
    "Cr=float(input(\"Please enter electrode Chromium content: \\n\"))\n",
    "S=float(input(\"Please enter electrode Sulphur content: \\n\"))\n",
    "P=float(input(\"Please enter electrode Phosphorus content: \\n\"))\n",
    "O=float(input(\"Please enter electrode Oxygen content: \\n\"))\n",
    "CaO=float(input(\"Please enter wt% CaO : \\n\"))\n",
    "CaF2=float(input(\"Please enter wt% CaF2 : \\n\"))\n",
    "MgO=float(input(\"Please enter wt% MgO : \\n\"))\n",
    "Wslag=float(input(\"Please enter the slag weight(g) : \\n\"))"
   ]
  },
  {
   "cell_type": "markdown",
   "id": "9630df83",
   "metadata": {},
   "source": [
    "*Calculating Activity Coefficients*"
   ]
  },
  {
   "cell_type": "code",
   "execution_count": 8,
   "id": "c5eb238d",
   "metadata": {},
   "outputs": [],
   "source": [
    "fAl=pow(10,0.091*C+0.056*Si+0.03*S+0.044635878*Al+0.012*Cr-6.597784303*O)\n",
    "fMn=pow(10,-0.07*C-0.048*S+0.0039*Cr-0.083*O)\n",
    "fSi=pow(10,0.179883075*C+0.107419648*Si+0.0028*Mn+0.056*S+0.58*Al-0.0003*Cr-0.23*O)\n",
    "fO=pow(10,-0.436*C-0.131*Si-0.021*Mn-0.133*S-3.848398292*Al-0.0459*Cr-0.200329952*O)"
   ]
  },
  {
   "cell_type": "code",
   "execution_count": 9,
   "id": "835a568b",
   "metadata": {},
   "outputs": [
    {
     "name": "stdout",
     "output_type": "stream",
     "text": [
      "fAl: 1.0748252915485617\n",
      "fSi: 1.2098277357007114\n",
      "fMn: 0.9713550446742312\n",
      "fO: 0.5719159002350558\n"
     ]
    }
   ],
   "source": [
    "print(\"fAl:\",fAl)\n",
    "print(\"fSi:\",fSi)\n",
    "print(\"fMn:\",fMn)\n",
    "print(\"fO:\",fO)"
   ]
  },
  {
   "cell_type": "code",
   "execution_count": 10,
   "id": "cd5d7dd6",
   "metadata": {},
   "outputs": [],
   "source": [
    "nCaO=(CaO*Wslag)/(5600)\n",
    "nCaF2=(CaF2*Wslag)/(7800)\n",
    "nMgO=(MgO*Wslag)/(4000)"
   ]
  },
  {
   "cell_type": "markdown",
   "id": "a9630829",
   "metadata": {},
   "source": [
    "*Calculate the mass action concentration of every structural unit (ratio of equilibrium mole number to the total mole numbers)*"
   ]
  },
  {
   "cell_type": "code",
   "execution_count": 11,
   "id": "c709ec16",
   "metadata": {},
   "outputs": [],
   "source": [
    "def eq(vars):\n",
    "    N1, N2, N3, N4, N5, N6, N7, O, ni = vars\n",
    "    \n",
    "    eq1 = ((fAl*fAl*Al*Al*fO*fO*fO*O*O*O*(39790555298439.2993))/N4)-1\n",
    "    \n",
    "    eq2 = ((fSi*Si*fO*fO*O*O*(43651.58322))/N5)-1\n",
    "    \n",
    "    eq3 = ((fMn*Mn*fO*O*(22.49054606))/N7)-1\n",
    "    \n",
    "    eq4 = ((fO*O*(4.365158322))/N2)-1\n",
    "    \n",
    "    eq5 = nCaO-(ni*((0.5)*(N1)+(435.5012)*(N1)*(N5)+(2)*(11794.12)*(N1**2)*(N5)+(3)*(6410.8113)*(N1**3)*(N5)+(30.0606)*(N1)*(N4)+(71.99)*(N1)*(N4**2)+(268.725)*(N1)*(N4**6)+(3)*(139.8575)*(N1**3)*(N4)+(12)*(13030894969373.32518)*(N1**12)*(N4**7)+(1917.86)*(N1)*(N5)*(N6)+(89917.2452)*(N1)*(N5**2)*(N6)+(2*239542.0967)*(N1**2)*(N5**2)*(N6)+(3)*(31875187.33)*(N1**3)*(N5**2)*(N6)+(2)*(75419.9506)*(N1**2)*(N4)*(N5)+(1872.5899)*(N1)*(N4)*(N5**2)+(3)*(35084319.96)*(N1**3)*(N3)*(N5**2)+(3)*(115331.917)*(N1**3)*(N3)*(N4**3)+(11)*(329906557103762.3524)*(N1**11)*(N3)*(N4**7)))\n",
    "    \n",
    "    eq6 =nCaF2-(ni*((0.33)*(N3)+(35084319.96)*(N1**3)*(N3)*(N5**2)+(115331.917)*(N1**3)*(N3)*(N4**3)+(329906557103762.3524)*(N1**11)*(N3)*(N4**7)))\n",
    "    \n",
    "    eq7 =nMgO-(ni*((0.5)*(N6)+(7.5695)*(N5)*(N6)+(2)*(38.3803)*(N5)*(N6**2)+(12.5915)*(N4)*(N6)+(1917.8608)*(N1)*(N5)*(N6)+(89917.2452)*(N1)*(N5**2)*(N6)+(239542.0967)*(N1**2)*(N5**2)*(N6)+(31875187.33)*(N1**3)*(N5**2)*(N6)))\n",
    "    \n",
    "    eq8 =(N1+N2+N3+N4+N5+N6+N7-1)\n",
    "    eq9 =100-(((56)*(N1)+(72)*(N2)+(78)*(N3)+(102)*(N4)+(60)*(N5)+(40)*(N6)+(71)*(N7))*ni)\n",
    "\n",
    "\n",
    "    return [eq1, eq2, eq3, eq4, eq5, eq6, eq7, eq8, eq9]\n"
   ]
  },
  {
   "cell_type": "code",
   "execution_count": 18,
   "id": "6963ae29",
   "metadata": {},
   "outputs": [
    {
     "name": "stderr",
     "output_type": "stream",
     "text": [
      "D:\\Programme_files\\Anaconda\\lib\\site-packages\\scipy\\optimize\\minpack.py:175: RuntimeWarning: The iteration is not making good progress, as measured by the \n",
      "  improvement from the last five Jacobian evaluations.\n",
      "  warnings.warn(msg, RuntimeWarning)\n"
     ]
    }
   ],
   "source": [
    "N1, N2, N3, N4, N5, N6, N7, O, ni =fsolve(eq,(0.1488,0.00051,0.4595,0.4156,0.0130,0.0851,0.00182,0.0050,1671))"
   ]
  },
  {
   "cell_type": "markdown",
   "id": "a2949eb6",
   "metadata": {},
   "source": [
    "*1st Output - Slag Mole Fraction*"
   ]
  },
  {
   "cell_type": "code",
   "execution_count": 19,
   "id": "02c20d2f",
   "metadata": {},
   "outputs": [
    {
     "name": "stdout",
     "output_type": "stream",
     "text": [
      "NCaO 0.2430958977941945\n",
      "NFeO 0.0008886746721367663\n",
      "NCaF2 0.5401194631921516\n",
      "NAl2O3 0.14243266585574593\n",
      "NSiO2 0.00866343531867801\n",
      "NMgO 0.0620750451854396\n",
      "NMnO 0.002896067615093399\n",
      "O 0.0007218448523698192\n",
      "ni 0.1729542472388384\n",
      "NAl2O3+NSiO2+NMgO+NFeO+NMnO+NCaO+NCaF2 1.0001712496334398\n"
     ]
    }
   ],
   "source": [
    "print('NCaO'  ,N1)\n",
    "print('NFeO'  ,N2)\n",
    "print('NCaF2' ,N3)\n",
    "print('NAl2O3',N4)\n",
    "print('NSiO2' ,N5)\n",
    "print('NMgO'  ,N6)\n",
    "print('NMnO'  ,N7)\n",
    "print('O'     ,O)\n",
    "print('ni'    ,ni)\n",
    "print('NAl2O3+NSiO2+NMgO+NFeO+NMnO+NCaO+NCaF2',N1+N2+N3+N4+N5+N6+N7)\n"
   ]
  },
  {
   "cell_type": "code",
   "execution_count": 20,
   "id": "08ece804",
   "metadata": {},
   "outputs": [],
   "source": [
    "wtpercentCaO=CaO\n",
    "wtpercentCaF2=CaF2\n",
    "wtpercentMgO=MgO\n",
    "wtpercentFeO=(N2*72*250*100)/(Wslag)\n",
    "wtpercentMnO=(N7*71*250*100)/(Wslag)\n",
    "wtpercentSiO2=(N5*60*2700*100)/(Wslag)"
   ]
  },
  {
   "cell_type": "code",
   "execution_count": 21,
   "id": "afcae236",
   "metadata": {},
   "outputs": [],
   "source": [
    "wtpercentAl2O3=100-CaO-CaF2-MgO-wtpercentFeO-wtpercentMnO-wtpercentSiO2"
   ]
  },
  {
   "cell_type": "code",
   "execution_count": 22,
   "id": "de20bbe1",
   "metadata": {},
   "outputs": [
    {
     "data": {
      "text/plain": [
       "True"
      ]
     },
     "execution_count": 22,
     "metadata": {},
     "output_type": "execute_result"
    }
   ],
   "source": [
    "CaO+MgO+CaF2+wtpercentFeO+wtpercentSiO2+wtpercentMnO+wtpercentAl2O3 <= 100"
   ]
  },
  {
   "cell_type": "markdown",
   "id": "c0073e6f",
   "metadata": {},
   "source": [
    "*2nd Output - Slag wt.% at equilibrium*"
   ]
  },
  {
   "cell_type": "code",
   "execution_count": 23,
   "id": "75b8d70b",
   "metadata": {},
   "outputs": [
    {
     "name": "stdout",
     "output_type": "stream",
     "text": [
      "The equilibrium wt% Al2O3: 37.11\n",
      "The equilibrium wt% SiO2 : 2.84\n",
      "The equilibrium wt% MnO  : 0.104\n",
      "The Oxygen content (ppm) : 7.22\n",
      "The ∑Ni (Mole fraction of basic slag units: 1.0\n"
     ]
    }
   ],
   "source": [
    "if CaF2<40:\n",
    "    print('The equilibrium wt% FeO  :', round((wtpercentFeO),3))\n",
    "\n",
    "print('The equilibrium wt% Al2O3:', round((wtpercentAl2O3),2))\n",
    "print('The equilibrium wt% SiO2 :', round((wtpercentSiO2),2))\n",
    "\n",
    "print('The equilibrium wt% MnO  :', round((wtpercentMnO),3))\n",
    "print('The Oxygen content (ppm) :', round((O*10000),2))\n",
    "print('The ∑Ni (Mole fraction of basic slag units:', round((N1+N2+N3+N4+N5+N6+N7),3))"
   ]
  },
  {
   "cell_type": "markdown",
   "id": "09d1ad25",
   "metadata": {},
   "source": [
    "**Model shows good accuracy with increased trend of SiO2 towards the end of re-melting stage when compared with the literature**"
   ]
  },
  {
   "cell_type": "code",
   "execution_count": 27,
   "id": "45bf7fcf",
   "metadata": {},
   "outputs": [],
   "source": [
    "data = {'Slag Component After': [' Al2O3', 'SiO2', 'MnO'],\n",
    "        'wt%': [37.02,2.80,0.36]}"
   ]
  },
  {
   "cell_type": "code",
   "execution_count": 29,
   "id": "6961641e",
   "metadata": {},
   "outputs": [],
   "source": [
    "import pandas as pd"
   ]
  },
  {
   "cell_type": "code",
   "execution_count": 30,
   "id": "d863d236",
   "metadata": {},
   "outputs": [],
   "source": [
    "df = pd.DataFrame(data, index=['Al2O3',\n",
    "                               'SiO2',\n",
    "                               'MnO',])"
   ]
  },
  {
   "cell_type": "code",
   "execution_count": 31,
   "id": "efa91e9f",
   "metadata": {},
   "outputs": [],
   "source": [
    "data = [{'Al2O3': 37.02, 'SiO2': 2.80, 'MnO': 0.36},\n",
    "        {'Al2O3': 37.11, 'SiO2': 2.84, 'MnO': 0.104}]"
   ]
  },
  {
   "cell_type": "code",
   "execution_count": 34,
   "id": "3359a3f1",
   "metadata": {},
   "outputs": [],
   "source": [
    "df = pd.DataFrame(data, index=['Literature-Experiment',\n",
    "                               'Python Prediction',\n",
    "                               ])"
   ]
  },
  {
   "cell_type": "code",
   "execution_count": 35,
   "id": "70a5e6c7",
   "metadata": {},
   "outputs": [
    {
     "data": {
      "text/html": [
       "<div>\n",
       "<style scoped>\n",
       "    .dataframe tbody tr th:only-of-type {\n",
       "        vertical-align: middle;\n",
       "    }\n",
       "\n",
       "    .dataframe tbody tr th {\n",
       "        vertical-align: top;\n",
       "    }\n",
       "\n",
       "    .dataframe thead th {\n",
       "        text-align: right;\n",
       "    }\n",
       "</style>\n",
       "<table border=\"1\" class=\"dataframe\">\n",
       "  <thead>\n",
       "    <tr style=\"text-align: right;\">\n",
       "      <th></th>\n",
       "      <th>Al2O3</th>\n",
       "      <th>SiO2</th>\n",
       "      <th>MnO</th>\n",
       "    </tr>\n",
       "  </thead>\n",
       "  <tbody>\n",
       "    <tr>\n",
       "      <th>Literature-Experiment</th>\n",
       "      <td>37.02</td>\n",
       "      <td>2.80</td>\n",
       "      <td>0.360</td>\n",
       "    </tr>\n",
       "    <tr>\n",
       "      <th>Python Prediction</th>\n",
       "      <td>37.11</td>\n",
       "      <td>2.84</td>\n",
       "      <td>0.104</td>\n",
       "    </tr>\n",
       "  </tbody>\n",
       "</table>\n",
       "</div>"
      ],
      "text/plain": [
       "                       Al2O3  SiO2    MnO\n",
       "Literature-Experiment  37.02  2.80  0.360\n",
       "Python Prediction      37.11  2.84  0.104"
      ]
     },
     "execution_count": 35,
     "metadata": {},
     "output_type": "execute_result"
    }
   ],
   "source": [
    "df"
   ]
  },
  {
   "cell_type": "code",
   "execution_count": 61,
   "id": "70f982c2",
   "metadata": {},
   "outputs": [
    {
     "data": {
      "image/png": "[encoded data removed]",
      "text/plain": [
       "<Figure size 864x576 with 1 Axes>"
      ]
     },
     "metadata": {
      "needs_background": "light"
     },
     "output_type": "display_data"
    }
   ],
   "source": [
    "Experiment = [2.80,0.36]\n",
    "Prediction    = [2.84,0.104]\n",
    "\n",
    "barWidth = 0.25\n",
    "fig = plt.subplots(figsize =(12, 8))\n",
    "\n",
    "br1 = np.arange(len(Experiment))\n",
    "br2 = [x + barWidth for x in br1]\n",
    "\n",
    "plt.bar(br1, Experiment, color ='r', width = barWidth, edgecolor ='grey', label ='Experiment')\n",
    "plt.bar(br2, Prediction, color ='b', width = barWidth,edgecolor ='grey', label ='Prediction')\n",
    "\n",
    "plt.xlabel('Slag Component', fontweight ='bold', fontsize = 15)\n",
    "plt.ylabel('Slag wt%', fontweight ='bold', fontsize = 15)\n",
    "plt.xticks([r + barWidth for r in range(len(Experiment))],\n",
    "        [ 'SiO2', 'MnO'])\n",
    "\n",
    "plt.legend()\n",
    "plt.show()"
   ]
  },
  {
   "cell_type": "markdown",
   "id": "a5d711bd",
   "metadata": {},
   "source": [
    " **This prediction is beneficial to the homogeneity and cleanliness of the refined ingot.\n",
    "    This model can be used as a guideline to optimize deoxidation practice during industrial ESR process. \n",
    "    Based on prediction, Aluminium can be calculated and added during remelting to kill oxygen and reduce oxide inclusions**"
   ]
  },
  {
   "cell_type": "code",
   "execution_count": null,
   "id": "cc6d15db",
   "metadata": {},
   "outputs": [],
   "source": []
  }
 ],
 "metadata": {
  "kernelspec": {
   "display_name": "Python 3 (ipykernel)",
   "language": "python",
   "name": "python3"
  },
  "language_info": {
   "codemirror_mode": {
    "name": "ipython",
    "version": 3
   },
   "file_extension": ".py",
   "mimetype": "text/x-python",
   "name": "python",
   "nbconvert_exporter": "python",
   "pygments_lexer": "ipython3",
   "version": "3.9.7"
  }
 },
 "nbformat": 4,
 "nbformat_minor": 5
}
